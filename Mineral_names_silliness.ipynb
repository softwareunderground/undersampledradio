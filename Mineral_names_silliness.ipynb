{
 "cells": [
  {
   "cell_type": "markdown",
   "metadata": {},
   "source": [
    "# Mineral name silliness\n",
    "\n",
    "I used [tabula](http://tabula.technology/) to get the data from [this 200+ page PDF table from IMA](http://nrmima.nrm.se//imalist.htm). Technology is awesome!\n",
    "\n",
    "Here's the spreadsheet with the data. (Not checked rigorously, but the first column seems OK and that's what I wanted.)\n",
    "\n",
    "https://docs.google.com/spreadsheets/d/1yS5bM-ld_JnuOcamn6I4WUnJnxTNfBszuY5i3ijpk7Q/edit?usp=sharing\n",
    "\n",
    "Some prelims:"
   ]
  },
  {
   "cell_type": "code",
   "execution_count": 1,
   "metadata": {
    "collapsed": true
   },
   "outputs": [],
   "source": [
    "import numpy as np\n",
    "import matplotlib.pyplot as plt\n",
    "import seaborn as sb\n",
    "%matplotlib inline\n",
    "\n",
    "import pandas as pd\n",
    "import requests\n",
    "import io\n",
    "import re"
   ]
  },
  {
   "cell_type": "markdown",
   "metadata": {},
   "source": [
    "Read the data:"
   ]
  },
  {
   "cell_type": "code",
   "execution_count": 2,
   "metadata": {
    "collapsed": false
   },
   "outputs": [],
   "source": [
    "with open('./data/IMA_mineral_names.txt', 'r') as f:\n",
    "    names = [i.strip() for i in f.readlines()]"
   ]
  },
  {
   "cell_type": "markdown",
   "metadata": {},
   "source": [
    "## Longest names"
   ]
  },
  {
   "cell_type": "code",
   "execution_count": 3,
   "metadata": {
    "collapsed": false
   },
   "outputs": [
    {
     "data": {
      "text/plain": [
       "[('fluorotetraferriphlogopite', 26),\n",
       " ('hydroniumpharmacosiderite', 25),\n",
       " ('hydroniumpharmacoalumite', 24),\n",
       " ('hydroxymanganopyrochlore', 24),\n",
       " ('magnesiochlorophoenicite', 24)]"
      ]
     },
     "execution_count": 3,
     "metadata": {},
     "output_type": "execute_result"
    }
   ],
   "source": [
    "longest = sorted(names, key=len, reverse=True)[:5]\n",
    "[(w, len(w)) for w in longest]"
   ]
  },
  {
   "cell_type": "markdown",
   "metadata": {},
   "source": [
    "## Most letters of alphabet"
   ]
  },
  {
   "cell_type": "code",
   "execution_count": 4,
   "metadata": {
    "collapsed": false
   },
   "outputs": [
    {
     "data": {
      "text/plain": [
       "{1: [],\n",
       " 2: [],\n",
       " 3: ['ice', 'tin'],\n",
       " 4: ['eitelite',\n",
       "  'eveite',\n",
       "  'gold',\n",
       "  'iron',\n",
       "  'lead',\n",
       "  'lime',\n",
       "  'opal',\n",
       "  'talc',\n",
       "  'urea',\n",
       "  'zinc'],\n",
       " 5: ['agaite', 'beryl', 'niter', 'topaz', 'trona', 'uvite'],\n",
       " 6: ['abellaite',\n",
       "  'abuite',\n",
       "  'afmite',\n",
       "  'ajoite',\n",
       "  'albite',\n",
       "  'augite',\n",
       "  'baryte',\n",
       "  'cerium',\n",
       "  'curite',\n",
       "  'davyne',\n",
       "  'gayite',\n",
       "  'gypsum',\n",
       "  'hakite',\n",
       "  'halite',\n",
       "  'humite',\n",
       "  'jusite',\n",
       "  'mohite',\n",
       "  'nickel',\n",
       "  'olgite',\n",
       "  'omsite',\n",
       "  'paxite',\n",
       "  'pyrite',\n",
       "  'quartz',\n",
       "  'rayite',\n",
       "  'rutile',\n",
       "  'schorl',\n",
       "  'silver',\n",
       "  'spinel',\n",
       "  'surite',\n",
       "  'umbite',\n",
       "  'zircon'],\n",
       " 7: ['acanthite',\n",
       "  'acetamide',\n",
       "  'achalaite',\n",
       "  'adachiite',\n",
       "  'adrianite',\n",
       "  'aerugite',\n",
       "  'aheylite',\n",
       "  'alarsite',\n",
       "  'aleksite',\n",
       "  'alunite',\n",
       "  'arsenic',\n",
       "  'arupite',\n",
       "  'azurite',\n",
       "  'backite',\n",
       "  'brucite',\n",
       "  'caoxite',\n",
       "  'cardite',\n",
       "  'cavoite',\n",
       "  'celsian',\n",
       "  'chaoite',\n",
       "  'corkite',\n",
       "  'cuprite',\n",
       "  'cyprine',\n",
       "  'dalyite',\n",
       "  'dozyite',\n",
       "  'dravite',\n",
       "  'dualite',\n",
       "  'fangite',\n",
       "  'flamite',\n",
       "  'gahnite',\n",
       "  'gladite',\n",
       "  'glucine',\n",
       "  'grayite',\n",
       "  'hulsite',\n",
       "  'jagoite',\n",
       "  'jarlite',\n",
       "  'juabite',\n",
       "  'juanite',\n",
       "  'jungite',\n",
       "  'junoite',\n",
       "  'kangite',\n",
       "  'kanoite',\n",
       "  'karlite',\n",
       "  'klajite',\n",
       "  'kochite',\n",
       "  'kyanite',\n",
       "  'langite',\n",
       "  'larnite',\n",
       "  'laurite',\n",
       "  'nacrite',\n",
       "  'naquite',\n",
       "  'nashite',\n",
       "  'rauvite',\n",
       "  'rhodium',\n",
       "  'rohaite',\n",
       "  'rouaite',\n",
       "  'sayrite',\n",
       "  'spryite',\n",
       "  'suanite',\n",
       "  'sudoite',\n",
       "  'svabite',\n",
       "  'sylvite',\n",
       "  'upalite',\n",
       "  'usovite',\n",
       "  'uvanite',\n",
       "  'uzonite',\n",
       "  'voglite',\n",
       "  'vrbaite',\n",
       "  'wardite',\n",
       "  'warkite',\n",
       "  'yangite',\n",
       "  'yvonite'],\n",
       " 8: ['abhurite',\n",
       "  'anduoite',\n",
       "  'barylite',\n",
       "  'braunite',\n",
       "  'brockite',\n",
       "  'brushite',\n",
       "  'bukovite',\n",
       "  'burnsite',\n",
       "  'byrudite',\n",
       "  'charoite',\n",
       "  'chongite',\n",
       "  'chromite',\n",
       "  'colusite',\n",
       "  'cosalite',\n",
       "  'cryolite',\n",
       "  'cubanite',\n",
       "  'cupalite',\n",
       "  'diaspore',\n",
       "  'dioptase',\n",
       "  'fluckite',\n",
       "  'fluorite',\n",
       "  'fukalite',\n",
       "  'gordaite',\n",
       "  'goyazite',\n",
       "  'graphite',\n",
       "  'gyrolite',\n",
       "  'hanksite',\n",
       "  'hauckite',\n",
       "  'haxonite',\n",
       "  'hoganite',\n",
       "  'honzaite',\n",
       "  'huangite',\n",
       "  'jarosite',\n",
       "  'kampfite',\n",
       "  'kasolite',\n",
       "  'kolarite',\n",
       "  'konyaite',\n",
       "  'krausite',\n",
       "  'larosite',\n",
       "  'lazurite',\n",
       "  'litharge',\n",
       "  'luzonite',\n",
       "  'lyonsite',\n",
       "  'madocite',\n",
       "  'majorite',\n",
       "  'marklite',\n",
       "  'marokite',\n",
       "  'marshite',\n",
       "  'masuyite',\n",
       "  'mawbyite',\n",
       "  'molysite',\n",
       "  'nahpoite',\n",
       "  'namuwite',\n",
       "  'olympite',\n",
       "  'orpiment',\n",
       "  'ourayite',\n",
       "  'pascoite',\n",
       "  'pavonite',\n",
       "  'polarite',\n",
       "  'poubaite',\n",
       "  'poughite',\n",
       "  'proudite',\n",
       "  'rauchite',\n",
       "  'roaldite',\n",
       "  'roumaite',\n",
       "  'roxbyite',\n",
       "  'sanguite',\n",
       "  'saponite',\n",
       "  'sborgite',\n",
       "  'sclarite',\n",
       "  'shandite',\n",
       "  'sharpite',\n",
       "  'sodalite',\n",
       "  'sorbyite',\n",
       "  'umangite',\n",
       "  'vanoxite',\n",
       "  'yukonite',\n",
       "  'zadovite'],\n",
       " 9: ['abelsonite',\n",
       "  'abramovite',\n",
       "  'adranosite',\n",
       "  'alburnite',\n",
       "  'alforsite',\n",
       "  'anhydrite',\n",
       "  'bandylite',\n",
       "  'barlowite',\n",
       "  'bulachite',\n",
       "  'bulgakite',\n",
       "  'burpalite',\n",
       "  'bykovaite',\n",
       "  'chamosite',\n",
       "  'changoite',\n",
       "  'chovanite',\n",
       "  'coparsite',\n",
       "  'cornubite',\n",
       "  'corvusite',\n",
       "  'cronusite',\n",
       "  'danburite',\n",
       "  'dawsonite',\n",
       "  'durangite',\n",
       "  'dymkovite',\n",
       "  'fornacite',\n",
       "  'foshagite',\n",
       "  'furongite',\n",
       "  'gormanite',\n",
       "  'goslarite',\n",
       "  'halurgite',\n",
       "  'harmunite',\n",
       "  'jacobsite',\n",
       "  'jamborite',\n",
       "  'jordanite',\n",
       "  'jurbanite',\n",
       "  'karpovite',\n",
       "  'kladnoite',\n",
       "  'koashvite',\n",
       "  'kolfanite',\n",
       "  'kosnarite',\n",
       "  'lawsonite',\n",
       "  'lovdarite',\n",
       "  'magnolite',\n",
       "  'maldonite',\n",
       "  'maslovite',\n",
       "  'mawsonite',\n",
       "  'molybdite',\n",
       "  'mopungite',\n",
       "  'muscovite',\n",
       "  'muskoxite',\n",
       "  'nahcolite',\n",
       "  'nambulite',\n",
       "  'nyholmite',\n",
       "  'oldhamite',\n",
       "  'omphacite',\n",
       "  'oxyvanite',\n",
       "  'plavnoite',\n",
       "  'plumosite',\n",
       "  'qusongite',\n",
       "  'rasvumite',\n",
       "  'sauconite',\n",
       "  'scholzite',\n",
       "  'shabynite',\n",
       "  'souzalite',\n",
       "  'sulvanite',\n",
       "  'swaknoite',\n",
       "  'swamboite',\n",
       "  'sylvanite',\n",
       "  'uramphite',\n",
       "  'ushkovite',\n",
       "  'vorlanite',\n",
       "  'vulcanite',\n",
       "  'wopmayite',\n",
       "  'zangboite'],\n",
       " 10: ['acmonidesite',\n",
       "  'akrochordite',\n",
       "  'armstrongite',\n",
       "  'armstrongite',\n",
       "  'arsenopyrite',\n",
       "  'asselbornite',\n",
       "  'baileychlore',\n",
       "  'balangeroite',\n",
       "  'bamfordite',\n",
       "  'brumadoite',\n",
       "  'carlsonite',\n",
       "  'carpholite',\n",
       "  'chkalovite',\n",
       "  'chrysotile',\n",
       "  'chudobaite',\n",
       "  'coquandite',\n",
       "  'dorfmanite',\n",
       "  'douglasite',\n",
       "  'drugmanite',\n",
       "  'goldmanite',\n",
       "  'jasmundite',\n",
       "  'jasrouxite',\n",
       "  'kalborsite',\n",
       "  'krasnovite',\n",
       "  'lukrahnite',\n",
       "  'moluranite',\n",
       "  'murdochite',\n",
       "  'nordgauite',\n",
       "  'okruschite',\n",
       "  'orlymanite',\n",
       "  'phurcalite',\n",
       "  'polybasite',\n",
       "  'posnjakite',\n",
       "  'pyrolusite',\n",
       "  'rusakovite',\n",
       "  'scorzalite',\n",
       "  'shadlunite',\n",
       "  'shlykovite',\n",
       "  'shumwayite',\n",
       "  'spangolite',\n",
       "  'surkhobite',\n",
       "  'szklaryite',\n",
       "  'volynskite',\n",
       "  'walfordite',\n",
       "  'walpurgite',\n",
       "  'yarlongite',\n",
       "  'yuksporite'],\n",
       " 11: ['addibischoffite',\n",
       "  'amblygonite',\n",
       "  'buchwaldite',\n",
       "  'buckhornite',\n",
       "  'chubarovite',\n",
       "  'chukanovite',\n",
       "  'humboldtine',\n",
       "  'hylbrownite',\n",
       "  'johnbaumite',\n",
       "  'johnwalkite',\n",
       "  'jouravskite',\n",
       "  'lansfordite',\n",
       "  'murashkoite',\n",
       "  'pyracmonite'],\n",
       " 12: ['abswurmbachite',\n",
       "  'aleksandrovite',\n",
       "  'bohdanowiczite',\n",
       "  'brandholzite',\n",
       "  'fluorcaphite',\n",
       "  'hansblockite',\n",
       "  'pyroxmangite',\n",
       "  'rhodplumsite',\n",
       "  'zircosulfate'],\n",
       " 13: ['aluminopyracmonite',\n",
       "  'alumohydrocalcite',\n",
       "  'chlorkyuygenite',\n",
       "  'chloromagnesite',\n",
       "  'cupromolybdite',\n",
       "  'hydrocalumite',\n",
       "  'plumbonacrite'],\n",
       " 14: ['alumoklyuchevskite',\n",
       "  'hydroniumjarosite',\n",
       "  'hydroxylwagnerite',\n",
       "  'molybdofornacite'],\n",
       " 15: ['hydrobasaluminite'],\n",
       " 16: [],\n",
       " 17: [],\n",
       " 18: [],\n",
       " 19: [],\n",
       " 20: [],\n",
       " 21: [],\n",
       " 22: [],\n",
       " 23: [],\n",
       " 24: [],\n",
       " 25: [],\n",
       " 26: []}"
      ]
     },
     "execution_count": 4,
     "metadata": {},
     "output_type": "execute_result"
    }
   ],
   "source": [
    "letters = {n: [30*'.'] for n in range(1, 27)}\n",
    "for w in names:\n",
    "    current = letters[len(set(w))][-1]\n",
    "    if len(w) <= len(current):\n",
    "        letters[len(set(w))].append(w)\n",
    "{k: list(filter(lambda x: x!=30*'.', v)) for k, v in letters.items()}"
   ]
  },
  {
   "cell_type": "markdown",
   "metadata": {
    "collapsed": false
   },
   "source": [
    "That is pretty gross, I apologize.\n",
    "\n",
    "Anyway, the winner is \"hydrobasaluminite\", with 15 letters of the alphabet."
   ]
  },
  {
   "cell_type": "markdown",
   "metadata": {},
   "source": [
    "## Shortest names with all the vowels\n"
   ]
  },
  {
   "cell_type": "code",
   "execution_count": 5,
   "metadata": {
    "collapsed": false,
    "scrolled": true
   },
   "outputs": [
    {
     "data": {
      "text/plain": [
       "['rouaite', 'anduoite', 'aurorite', 'ourayite', 'poubaite']"
      ]
     },
     "execution_count": 5,
     "metadata": {},
     "output_type": "execute_result"
    }
   ],
   "source": [
    "sorted([w for w in names if not (set('aeiou') - set(w))], key=len)[:5]"
   ]
  },
  {
   "cell_type": "markdown",
   "metadata": {},
   "source": [
    "## Names with no vowels"
   ]
  },
  {
   "cell_type": "code",
   "execution_count": 6,
   "metadata": {
    "collapsed": false
   },
   "outputs": [
    {
     "data": {
      "text/plain": [
       "[]"
      ]
     },
     "execution_count": 6,
     "metadata": {},
     "output_type": "execute_result"
    }
   ],
   "source": [
    "[w for w in names if len(set(w)-set('aeiou')) == len(set(w))]"
   ]
  },
  {
   "cell_type": "markdown",
   "metadata": {},
   "source": [
    "## Most unique letters, no repeats"
   ]
  },
  {
   "cell_type": "code",
   "execution_count": 7,
   "metadata": {
    "collapsed": false
   },
   "outputs": [
    {
     "data": {
      "text/plain": [
       "['hydrocalumite',\n",
       " 'plumbonacrite',\n",
       " 'brandholzite',\n",
       " 'fluorcaphite',\n",
       " 'hansblockite']"
      ]
     },
     "execution_count": 7,
     "metadata": {},
     "output_type": "execute_result"
    }
   ],
   "source": [
    "sorted([w for w in names if len(w) == len(set(w))], key=len, reverse=True)[:5]"
   ]
  },
  {
   "cell_type": "markdown",
   "metadata": {},
   "source": [
    "## Shortest name for each letter of the alphabet"
   ]
  },
  {
   "cell_type": "code",
   "execution_count": 8,
   "metadata": {
    "collapsed": false
   },
   "outputs": [
    {
     "data": {
      "text/plain": [
       "{'a': 'abuite',\n",
       " 'b': 'beryl',\n",
       " 'c': 'cerium',\n",
       " 'd': 'davyne',\n",
       " 'e': 'elyite',\n",
       " 'f': 'fangite',\n",
       " 'g': 'gold',\n",
       " 'h': 'hafnon',\n",
       " 'i': 'ice',\n",
       " 'j': 'jusite',\n",
       " 'k': 'keyite',\n",
       " 'l': 'lead',\n",
       " 'm': 'minium',\n",
       " 'n': 'niter',\n",
       " 'o': 'opal',\n",
       " 'p': 'paxite',\n",
       " 'q': 'quartz',\n",
       " 'r': 'rayite',\n",
       " 's': 'schorl',\n",
       " 't': 'tin',\n",
       " 'u': 'urea',\n",
       " 'v': 'vaesite',\n",
       " 'w': 'wadeite',\n",
       " 'x': 'xieite',\n",
       " 'y': 'yagiite',\n",
       " 'z': 'zinc'}"
      ]
     },
     "execution_count": 8,
     "metadata": {},
     "output_type": "execute_result"
    }
   ],
   "source": [
    "result = {chr(65+i).lower():'.'*30 for i in range(26)}\n",
    "for name in names:\n",
    "    if len(name) < len(result[name[0]]):\n",
    "        result[name[0]] = name\n",
    "result"
   ]
  },
  {
   "cell_type": "markdown",
   "metadata": {},
   "source": [
    "## Longest name for each letter of the alphabet"
   ]
  },
  {
   "cell_type": "code",
   "execution_count": 9,
   "metadata": {
    "collapsed": false
   },
   "outputs": [
    {
     "data": {
      "text/plain": [
       "{'a': 'ammoniomagnesiovoltaite',\n",
       " 'b': 'bariopharmacosiderite',\n",
       " 'c': 'carbonatecyanotrichite',\n",
       " 'd': 'disulfodadsonite',\n",
       " 'e': 'erythrosiderite',\n",
       " 'f': 'fluorotetraferriphlogopite',\n",
       " 'g': 'galloplumbogummite',\n",
       " 'h': 'hydroniumpharmacosiderite',\n",
       " 'i': 'isoferroplatinum',\n",
       " 'j': 'jacquesdietrichite',\n",
       " 'k': 'kenoplumbomicrolite',\n",
       " 'l': 'lukkulaisvaaraite',\n",
       " 'm': 'magnesiochlorophoenicite',\n",
       " 'n': 'natropharmacosiderite',\n",
       " 'o': 'oxycalciopyrochlore',\n",
       " 'p': 'phosphoellenbergerite',\n",
       " 'q': 'quetzalcoatlite',\n",
       " 'r': 'reinhardbraunsite',\n",
       " 's': 'strontiopharmacosiderite',\n",
       " 't': 'thalliumpharmacosiderite',\n",
       " 'u': 'uytenbogaardtite',\n",
       " 'v': 'vandendriesscheite',\n",
       " 'w': 'wilhelmvierlingite',\n",
       " 'x': 'xiangjiangite',\n",
       " 'y': 'yangzhumingite',\n",
       " 'z': 'zhemchuzhnikovite'}"
      ]
     },
     "execution_count": 9,
     "metadata": {},
     "output_type": "execute_result"
    }
   ],
   "source": [
    "result = {chr(65+i).lower():'' for i in range(26)}\n",
    "for name in names:\n",
    "    if len(name) > len(result[name[0]]):\n",
    "        result[name[0]] = name\n",
    "result"
   ]
  },
  {
   "cell_type": "markdown",
   "metadata": {
    "collapsed": true
   },
   "source": [
    "## Longest list of minerals with fewest unique letters\n",
    "\n",
    "This is getting ridiculous... anyway, one of my searches turned up `['ice', 'teineite', 'cetineite', 'tinticite']` — 29 letters, only 5 letters — and I wondered if there were more. Only 'tin' it turns out..."
   ]
  },
  {
   "cell_type": "code",
   "execution_count": 11,
   "metadata": {
    "collapsed": false
   },
   "outputs": [
    {
     "data": {
      "text/plain": [
       "['cetineite', 'ice', 'teineite', 'tin', 'tinticite']"
      ]
     },
     "execution_count": 11,
     "metadata": {},
     "output_type": "execute_result"
    }
   ],
   "source": [
    "[n for n in names if not set(n) - set('icent')]"
   ]
  },
  {
   "cell_type": "markdown",
   "metadata": {},
   "source": [
    "I'm sure someone can beat that: 5 minerals, 32 letters, only 5 unique."
   ]
  }
 ],
 "metadata": {
  "anaconda-cloud": {},
  "kernelspec": {
   "display_name": "Python [conda env:python3]",
   "language": "python",
   "name": "conda-env-python3-py"
  },
  "language_info": {
   "codemirror_mode": {
    "name": "ipython",
    "version": 3
   },
   "file_extension": ".py",
   "mimetype": "text/x-python",
   "name": "python",
   "nbconvert_exporter": "python",
   "pygments_lexer": "ipython3",
   "version": "3.5.2"
  }
 },
 "nbformat": 4,
 "nbformat_minor": 0
}
