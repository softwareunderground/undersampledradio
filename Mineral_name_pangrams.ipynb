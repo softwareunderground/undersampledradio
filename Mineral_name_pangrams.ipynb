{
 "cells": [
  {
   "cell_type": "markdown",
   "metadata": {},
   "source": [
    "# Mineral name pangrams\n",
    "\n",
    "My mineral list is from [this 200+ page PDF table from IMA](http://nrmima.nrm.se//imalist.htm).\n",
    "\n",
    "Some prelims:"
   ]
  },
  {
   "cell_type": "code",
   "execution_count": 1,
   "metadata": {
    "collapsed": true
   },
   "outputs": [],
   "source": [
    "import numpy as np\n",
    "import matplotlib.pyplot as plt\n",
    "import seaborn as sb\n",
    "%matplotlib inline\n",
    "\n",
    "import pandas as pd\n",
    "import requests\n",
    "import io\n",
    "import re"
   ]
  },
  {
   "cell_type": "markdown",
   "metadata": {},
   "source": [
    "Read the data:"
   ]
  },
  {
   "cell_type": "code",
   "execution_count": 7,
   "metadata": {
    "collapsed": false
   },
   "outputs": [],
   "source": [
    "with open('./data/IMA_mineral_names.txt', 'r') as f:\n",
    "    names = [i.strip() for i in f.readlines()]"
   ]
  },
  {
   "cell_type": "markdown",
   "metadata": {},
   "source": [
    "## Finding pangrams"
   ]
  },
  {
   "cell_type": "markdown",
   "metadata": {},
   "source": [
    "Finding pangrams in a list of words amounts to solving the classical [set cover problem](https://en.wikipedia.org/wiki/Set_cover_problem).\n",
    "\n",
    "I've written about this on agilescientific.com."
   ]
  },
  {
   "cell_type": "code",
   "execution_count": 8,
   "metadata": {
    "collapsed": true
   },
   "outputs": [],
   "source": [
    "# from random import shuffle\n",
    "# shuffle(names)"
   ]
  },
  {
   "cell_type": "code",
   "execution_count": 9,
   "metadata": {
    "collapsed": false
   },
   "outputs": [],
   "source": [
    "names = sorted(names, key=len)"
   ]
  },
  {
   "cell_type": "code",
   "execution_count": 10,
   "metadata": {
    "collapsed": false
   },
   "outputs": [
    {
     "data": {
      "text/plain": [
       "['ice',\n",
       " 'tin',\n",
       " 'gold',\n",
       " 'iron',\n",
       " 'lead',\n",
       " 'lime',\n",
       " 'opal',\n",
       " 'talc',\n",
       " 'urea',\n",
       " 'zinc',\n",
       " 'beryl',\n",
       " 'niter',\n",
       " 'topaz',\n",
       " 'trona',\n",
       " 'tuite',\n",
       " 'uvite',\n",
       " 'abuite',\n",
       " 'afmite',\n",
       " 'agaite',\n",
       " 'ajoite']"
      ]
     },
     "execution_count": 10,
     "metadata": {},
     "output_type": "execute_result"
    }
   ],
   "source": [
    "names[:20]"
   ]
  },
  {
   "cell_type": "markdown",
   "metadata": {},
   "source": [
    "To reduce the problem to something my laptop can actually solve, I'm guessing that Quartz will be useful, having Q and Z, so let's move it to the front of the list."
   ]
  },
  {
   "cell_type": "code",
   "execution_count": 4,
   "metadata": {
    "collapsed": false
   },
   "outputs": [],
   "source": [
    "names.pop(names.index('quartz'))\n",
    "names = ['quartz'] + names"
   ]
  },
  {
   "cell_type": "markdown",
   "metadata": {},
   "source": [
    "Make a set of all characters a to z to compare to."
   ]
  },
  {
   "cell_type": "code",
   "execution_count": 11,
   "metadata": {
    "collapsed": false
   },
   "outputs": [
    {
     "name": "stdout",
     "output_type": "stream",
     "text": [
      "['a', 'b', 'c', 'd', 'e', 'f', 'g', 'h', 'i', 'j', 'k', 'l', 'm', 'n', 'o', 'p', 'q', 'r', 's', 't', 'u', 'v', 'w', 'x', 'y', 'z']\n"
     ]
    }
   ],
   "source": [
    "alphaset = set(chr(65+i).lower() for i in range(26))\n",
    "print(sorted(alphaset))"
   ]
  },
  {
   "cell_type": "markdown",
   "metadata": {},
   "source": [
    "We're using brute force. This will take a while, since there are 4670+ items, and therefore over 475 quadrillion ways to arrange 4 items.\n",
    "\n",
    "Rather than only finding pangrams, I think I'll just find every shortest subset that satisfies the subuniverses of the alphabet. So we'll get all the combinations with exactly 15 unique letters of the alphabet, etc."
   ]
  },
  {
   "cell_type": "code",
   "execution_count": 12,
   "metadata": {
    "collapsed": false
   },
   "outputs": [],
   "source": [
    "from itertools import combinations\n",
    "\n",
    "def find_pangrams(words, universe=None, seed=None, start_length=0, stop_length=27, min_length=0):\n",
    "    \"\"\"\n",
    "    words: the corpora, S\n",
    "    universe: the universe, defaults to the alphabet\n",
    "    seed: a word you'd like to force it to use, e.g. quartz.\n",
    "    start_length: skip collections of this length or less.\n",
    "    stop_length: don't check any collections longer than this.\n",
    "    min_length: make sure there are at least this many *letters* in the collection.\n",
    "    \"\"\"\n",
    "    \n",
    "    if universe is None:\n",
    "        universe = set(chr(65+i).lower() for i in range(26))\n",
    "\n",
    "    most = 0\n",
    "    results = {n: [] for n in range(27)}\n",
    "    shortest = {n:np.inf for n in range(27)}\n",
    "    t = \"{:2s}{}{} ({}, {})\"\n",
    "    \n",
    "    for length in range(start_length, stop_length+1):  # This won't finish for some corpora.\n",
    "        print('\\nLength: {}'.format(length))\n",
    "    \n",
    "        for c in combinations(words, length):\n",
    "            printed = False\n",
    "\n",
    "            if seed is not None:\n",
    "                c = list(c) + [seed]\n",
    "\n",
    "            j = ''.join(c)\n",
    "            all_letters = len(j)\n",
    "            if all_letters < min_length: continue\n",
    "            s = set(j)\n",
    "            letters = len(s)\n",
    "\n",
    "            if letters > most:\n",
    "                most = letters\n",
    "                print(t.format(str(most), '++++', c, all_letters,  ''.join(list(universe - s))))\n",
    "                printed = True\n",
    "\n",
    "            if all_letters < shortest[letters]:\n",
    "                shortest[letters] = all_letters\n",
    "                results[letters] = c\n",
    "                if not printed:\n",
    "                    print(t.format(str(letters), '....', c, all_letters, ''.join(list(universe - s))))\n",
    "\n",
    "    return results"
   ]
  },
  {
   "cell_type": "markdown",
   "metadata": {},
   "source": [
    "I'm fairly sure that we're looking for something with 4 mineral names. I have run through all the combinations of 3 names, and got a maximum o f 24 letter of the alphabet, getting `('hexamolybdenum', 'pizgrischite', 'kvanefjeldite')`, which lacks `q` and `w`.\n",
    "\n",
    "When you're ready, run the next code block!"
   ]
  },
  {
   "cell_type": "code",
   "execution_count": null,
   "metadata": {
    "collapsed": false,
    "scrolled": false
   },
   "outputs": [
    {
     "name": "stdout",
     "output_type": "stream",
     "text": [
      "\n",
      "Length: 4\n",
      "14++++('ice', 'tin', 'gold', 'addibischoffite') (25, wvrzmkxqyjpu)\n",
      "13....('ice', 'tin', 'gold', 'andreyivanovite') (25, bwzxmhkqfjspu)\n",
      "12....('ice', 'tin', 'gold', 'arseniosiderite') (25, bwvzmhkxqfyjpu)\n",
      "16++++('ice', 'tin', 'gold', 'barioperovskite') (25, wzxmhqfyju)\n",
      "15....('ice', 'tin', 'gold', 'ferrisymplesite') (25, bvzwxhkqjau)\n",
      "11....('ice', 'tin', 'gold', 'grootfonteinite') (25, bwvzmhkxqyjsapu)\n",
      "17++++('ice', 'tin', 'gold', 'pushcharovskite') (25, bwzxmqfyj)\n",
      "10....('ice', 'tin', 'iron', 'arseniosiderite') (25, bwvzmhkxqflyjpgu)\n",
      "9 ....('ice', 'tin', 'iron', 'grootfonteinite') (25, bwvzmhkxqyjsdaplu)\n",
      "8 ....('ice', 'tin', 'niter', 'henritermierite') (26, bwvzxkqflyjsdapgou)\n",
      "18++++('ice', 'tin', 'topaz', 'hydrobasaluminite') (28, wvxkqfjg)\n",
      "8 ....('ice', 'tin', 'tuite', 'uchucchacuaite') (25, bwrvmzkxqflyjsdpgo)\n",
      "18....('ice', 'tin', 'davyne', 'plumbojarosite') (26, wzxkhqfg)\n",
      "18....('ice', 'tin', 'gypsum', 'fluorowardite') (25, bvzxhkqj)\n",
      "19++++('ice', 'tin', 'gypsum', 'hydroxylwagnerite') (29, bvzkqfj)\n",
      "7 ....('ice', 'tin', 'altaite', 'centennialite') (26, bwrvmzhkxqfyjsdpgou)\n",
      "7 ....('ice', 'tin', 'amicite', 'mantienneite') (25, bwrvzhkxqflyjsdpgou)\n",
      "20++++('ice', 'tin', 'bukovite', 'hydroxymanganopyrochlore') (38, wzqfjs)\n",
      "6 ....('ice', 'tin', 'teineite', 'coconinoite') (25, bwrvmzhkxqflyjsdapgu)\n",
      "19....('ice', 'tin', 'bykovaite', 'rhodplumsite') (27, wzxqfjg)\n",
      "20....('ice', 'tin', 'dymkovite', 'phosphowalpurgite') (32, bzxqfj)\n",
      "20....('ice', 'tin', 'perovskite', 'hexamolybdenum') (30, wzqfjg)\n",
      "21++++('ice', 'tin', 'jouravskite', 'hydroxymanganopyrochlore') (41, bqfzw)\n",
      "21....('ice', 'tin', 'przhevalskite', 'hexamolybdenum') (33, wqfgj)\n",
      "19....('ice', 'gold', 'gypsum', 'berezanskite') (25, wvxhqfj)\n",
      "20....('ice', 'gold', 'gypsum', 'shafranovskite') (27, bzxwqj)\n",
      "21....('ice', 'gold', 'kyawthuite', 'bezsmertnovite') (31, xqfpj)\n",
      "21....('ice', 'gold', 'johnbaumite', 'kozyrevskite') (30, wqfpx)\n",
      "22++++('ice', 'gold', 'przhevalskite', 'hexamolybdenum') (34, wqfj)\n",
      "20....('ice', 'iron', 'gypsum', 'kvanefjeldite') (26, xbzwhq)\n"
     ]
    }
   ],
   "source": [
    "find_pangrams(names, start_length=4, stop_length=4, min_length=25)"
   ]
  },
  {
   "cell_type": "markdown",
   "metadata": {},
   "source": [
    "There you have it. Run the block above if you dare... I have not let it complete yet. If it doesn't complete, note that the printouts are the only record you have. It's probably a good idea to modify the function to write a file as we go.\n",
    "\n",
    "Some other ideas for things to try:\n",
    "\n",
    "- Parallelize the search. It's not embarrassingly parallel, so the combined dataset would be much larger than a single-core dataset, but each one will be a lot smaller, so it will be faster overall.\n",
    "- Do a more rigorous search for the best seed word; I'm sure it's not quartz. Intuitively, I think you want the longest name with the most rare letters. I don't know what that is, but it would be easy to do some letter counts and rough searches.\n",
    "- Er, that's all I can think of right now."
   ]
  },
  {
   "cell_type": "markdown",
   "metadata": {
    "collapsed": true
   },
   "source": [
    "<hr />\n",
    "\n",
    "Undersampled Radio 2017"
   ]
  }
 ],
 "metadata": {
  "anaconda-cloud": {},
  "kernelspec": {
   "display_name": "Python [conda env:python3]",
   "language": "python",
   "name": "conda-env-python3-py"
  },
  "language_info": {
   "codemirror_mode": {
    "name": "ipython",
    "version": 3
   },
   "file_extension": ".py",
   "mimetype": "text/x-python",
   "name": "python",
   "nbconvert_exporter": "python",
   "pygments_lexer": "ipython3",
   "version": "3.5.2"
  }
 },
 "nbformat": 4,
 "nbformat_minor": 0
}
