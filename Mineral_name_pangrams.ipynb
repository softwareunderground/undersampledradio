{
 "cells": [
  {
   "cell_type": "markdown",
   "metadata": {},
   "source": [
    "# Mineral name pangrams\n",
    "\n",
    "My mineral list is from [this 200+ page PDF table from IMA](http://nrmima.nrm.se//imalist.htm).\n",
    "\n",
    "Some prelims:"
   ]
  },
  {
   "cell_type": "code",
   "execution_count": 1,
   "metadata": {
    "collapsed": true
   },
   "outputs": [],
   "source": [
    "import numpy as np\n",
    "import matplotlib.pyplot as plt\n",
    "import seaborn as sb\n",
    "%matplotlib inline\n",
    "\n",
    "import pandas as pd\n",
    "import requests\n",
    "import io\n",
    "import re"
   ]
  },
  {
   "cell_type": "markdown",
   "metadata": {},
   "source": [
    "Read the data:"
   ]
  },
  {
   "cell_type": "code",
   "execution_count": 2,
   "metadata": {
    "collapsed": false
   },
   "outputs": [],
   "source": [
    "with open('./data/IMA_mineral_names.txt', 'r') as f:\n",
    "    names = [i.strip() for i in f.readlines()]"
   ]
  },
  {
   "cell_type": "markdown",
   "metadata": {},
   "source": [
    "## Finding pangrams"
   ]
  },
  {
   "cell_type": "markdown",
   "metadata": {},
   "source": [
    "Finding pangrams in a list of words amounts to solving the classical [set cover problem](https://en.wikipedia.org/wiki/Set_cover_problem).\n",
    "\n",
    "I've written about this on agilescientific.com."
   ]
  },
  {
   "cell_type": "code",
   "execution_count": 3,
   "metadata": {
    "collapsed": true
   },
   "outputs": [],
   "source": [
    "from random import shuffle\n",
    "shuffle(names)"
   ]
  },
  {
   "cell_type": "markdown",
   "metadata": {},
   "source": [
    "To reduce the problem to something my laptop can actually solve, I'm guessing that Quartz will be useful, having Q and Z, so let's move it to the front of the list."
   ]
  },
  {
   "cell_type": "code",
   "execution_count": 4,
   "metadata": {
    "collapsed": false
   },
   "outputs": [],
   "source": [
    "names.pop(names.index('quartz'))\n",
    "names = ['quartz'] + names"
   ]
  },
  {
   "cell_type": "markdown",
   "metadata": {},
   "source": [
    "Make a set of all characters a to z to compare to."
   ]
  },
  {
   "cell_type": "code",
   "execution_count": 5,
   "metadata": {
    "collapsed": false
   },
   "outputs": [
    {
     "name": "stdout",
     "output_type": "stream",
     "text": [
      "['a', 'b', 'c', 'd', 'e', 'f', 'g', 'h', 'i', 'j', 'k', 'l', 'm', 'n', 'o', 'p', 'q', 'r', 's', 't', 'u', 'v', 'w', 'x', 'y', 'z']\n"
     ]
    }
   ],
   "source": [
    "alphaset = set(chr(65+i).lower() for i in range(26))\n",
    "print(sorted(alphaset))"
   ]
  },
  {
   "cell_type": "markdown",
   "metadata": {},
   "source": [
    "We're using brute force. This will take a while, since there are 4670+ items, and therefore over 475 quadrillion ways to arrange 4 items.\n",
    "\n",
    "Rather than only finding pangrams, I think I'll just find every shortest subset that satisfies the subuniverses of the alphabet. So we'll get all the combinations with exactly 15 unique letters of the alphabet, etc."
   ]
  },
  {
   "cell_type": "code",
   "execution_count": 7,
   "metadata": {
    "collapsed": false
   },
   "outputs": [],
   "source": [
    "from itertools import combinations\n",
    "\n",
    "def find_pangrams(words, universe=None, seed=None, start_length=0, stop_length=27, min_length=0):\n",
    "    \"\"\"\n",
    "    words: the corpora, S\n",
    "    universe: the universe, defaults to the alphabet\n",
    "    seed: a word you'd like to force it to use, e.g. quartz.\n",
    "    start_length: skip collections of this length or less.\n",
    "    stop_length: don't check any collections longer than this.\n",
    "    min_length: make sure there are at least this many *letters* in the collection.\n",
    "    \"\"\"\n",
    "    \n",
    "    if universe is None:\n",
    "        universe = set(chr(65+i).lower() for i in range(26))\n",
    "\n",
    "    most = 0\n",
    "    results = {n: [] for n in range(27)}\n",
    "    shortest = {n:np.inf for n in range(27)}\n",
    "    t = \"{:2s}{}{} ({}, {})\"\n",
    "    \n",
    "    for length in range(start_length, stop_length+1):  # This won't finish for some corpora.\n",
    "        print('\\nLength: {}'.format(length))\n",
    "    \n",
    "        for c in combinations(words, length):\n",
    "            printed = False\n",
    "\n",
    "            if seed is not None:\n",
    "                c = list(c) + [seed]\n",
    "\n",
    "            j = ''.join(c)\n",
    "            all_letters = len(j)\n",
    "            if all_letters < min_length: continue\n",
    "            s = set(j)\n",
    "            letters = len(s)\n",
    "\n",
    "            if letters > most:\n",
    "                most = letters\n",
    "                print(t.format(str(most), '++++', c, all_letters,  ''.join(list(universe - s))))\n",
    "                printed = True\n",
    "\n",
    "            if all_letters < shortest[letters]:\n",
    "                shortest[letters] = all_letters\n",
    "                results[letters] = c\n",
    "                if not printed:\n",
    "                    print(t.format(str(letters), '....', c, all_letters, ''.join(list(universe - s))))\n",
    "\n",
    "    return results"
   ]
  },
  {
   "cell_type": "markdown",
   "metadata": {},
   "source": [
    "I'm fairly sure that we're looking for something with 4 mineral names. I have run through all the combinations of 3 names, and got a maximum o f 24 letter of the alphabet, getting `('hexamolybdenum', 'pizgrischite', 'kvanefjeldite')`, which lacks `q` and `w`.\n",
    "\n",
    "When you're ready, run the next code block!"
   ]
  },
  {
   "cell_type": "code",
   "execution_count": 8,
   "metadata": {
    "collapsed": false,
    "scrolled": false
   },
   "outputs": [
    {
     "name": "stdout",
     "output_type": "stream",
     "text": [
      "\n",
      "Length: 3\n",
      "20++++('quartz', 'otwayite', 'hydroxymanganopyrochlore') (38, vfsbjk)\n",
      "21++++('quartz', 'sveinbergeite', 'hydroxylclinohumite') (38, jkfpw)\n",
      "22++++('quartz', 'sveinbergeite', 'hydroxymanganopyrochlore') (43, jkfw)\n",
      "20....('quartz', 'sveinbergeite', 'hexamolybdenum') (33, fcwjkp)\n",
      "20....('quartz', 'sveinbergeite', 'hydrocalumite') (32, xfwjkp)\n",
      "21....('quartz', 'sveinbergeite', 'hydrokenomicrolite') (37, jfpxw)\n",
      "22....('quartz', 'sveinbergeite', 'hydroxykenomicrolite') (39, jfpw)\n",
      "20....('quartz', 'dymkovite', 'schieffelinite') (29, xgbwjp)\n",
      "21....('quartz', 'dymkovite', 'schulenbergite') (29, jfpxw)\n",
      "20....('quartz', 'dymkovite', 'hansblockite') (27, xfgwjp)\n",
      "20....('quartz', 'dymkovite', 'hexacelsian') (26, fgbwjp)\n",
      "23++++('quartz', 'bakhchisaraitsevite', 'hydroxymanganopyrochlore') (49, jfw)\n",
      "23....('quartz', 'hydroxymanganopyrochlore', 'sobolevskite') (42, jfw)\n",
      "22....('quartz', 'hydroxymanganopyrochlore', 'nevskite') (38, jbfw)\n",
      "23....('quartz', 'hydroxymanganopyrochlore', 'bostwickite') (41, jfv)\n",
      "22....('quartz', 'hydroxymanganopyrochlore', 'svabite') (37, jkfw)\n",
      "23....('quartz', 'hydroxymanganopyrochlore', 'knasibfite') (40, jvw)\n",
      "21....('quartz', 'hexamolybdenum', 'wicksite') (28, jgfpv)\n",
      "22....('quartz', 'hexamolybdenum', 'oscarkempffite') (34, jgvw)\n",
      "20....('quartz', 'kosmochlor', 'dypingite') (25, xvfbwj)\n",
      "23....('quartz', 'hydroxylwagnerite', 'oscarkempffite') (37, jbv)\n",
      "22....('quartz', 'plumboagardite', 'chirvinskyite') (33, jfxw)\n",
      "24++++('ferronickelplatinum', 'quadridavyne', 'schwartzembergite') (48, jx)\n",
      "22....('frolovite', 'gypsum', 'bohdanowiczite') (29, qkxj)\n",
      "23....('schafarzikite', 'oxyvanite', 'plumboagardite') (36, qwj)\n",
      "24....('schafarzikite', 'hydroxylwagnerite', 'plumbojarosite') (44, qv)\n",
      "23....('schafarzikite', 'pyroxmangite', 'ludjibaite') (35, qvw)\n",
      "21....('delvauxite', 'gypsum', 'buckhornite') (27, zqwfj)\n",
      "24....('pyrolusite', 'kvanefjeldite', 'schwartzembergite') (40, qx)\n",
      "21....('schorl', 'gypsum', 'kvanefjeldite') (25, zqbxw)\n",
      "24....('hexamolybdenum', 'pizgrischite', 'kvanefjeldite') (39, qw)\n",
      "23....('gypsum', 'kvanefjeldite', 'bohdanowiczite') (33, qrx)\n"
     ]
    },
    {
     "data": {
      "text/plain": [
       "{0: [],\n",
       " 1: [],\n",
       " 2: [],\n",
       " 3: [],\n",
       " 4: [],\n",
       " 5: [],\n",
       " 6: [],\n",
       " 7: [],\n",
       " 8: [],\n",
       " 9: [],\n",
       " 10: [],\n",
       " 11: [],\n",
       " 12: [],\n",
       " 13: [],\n",
       " 14: [],\n",
       " 15: [],\n",
       " 16: [],\n",
       " 17: [],\n",
       " 18: [],\n",
       " 19: [],\n",
       " 20: ('quartz', 'kosmochlor', 'dypingite'),\n",
       " 21: ('schorl', 'gypsum', 'kvanefjeldite'),\n",
       " 22: ('frolovite', 'gypsum', 'bohdanowiczite'),\n",
       " 23: ('gypsum', 'kvanefjeldite', 'bohdanowiczite'),\n",
       " 24: ('hexamolybdenum', 'pizgrischite', 'kvanefjeldite'),\n",
       " 25: [],\n",
       " 26: []}"
      ]
     },
     "execution_count": 8,
     "metadata": {},
     "output_type": "execute_result"
    }
   ],
   "source": [
    "find_pangrams(names, start_length=4, stop_length=4, min_length=25)"
   ]
  },
  {
   "cell_type": "markdown",
   "metadata": {},
   "source": [
    "There you have it. Run the block above if you dare... I have not let it complete yet. If it doesn't complete, note that the printouts are the only record you have. It's probably a good idea to modify the function to write a file as we go.\n",
    "\n",
    "Some other ideas for things to try:\n",
    "\n",
    "- Parallelize the search. It's not embarrassingly parallel, so the combined dataset would be much larger than a single-core dataset, but each one will be a lot smaller, so it will be faster overall.\n",
    "- Do a more rigorous search for the best seed word; I'm sure it's not quartz. Intuitively, I think you want the longest name with the most rare letters. I don't know what that is, but it would be easy to do some letter counts and rough searches.\n",
    "- Er, that's all I can think of right now."
   ]
  },
  {
   "cell_type": "markdown",
   "metadata": {
    "collapsed": true
   },
   "source": [
    "<hr />\n",
    "\n",
    "Undersampled Radio 2017"
   ]
  }
 ],
 "metadata": {
  "anaconda-cloud": {},
  "kernelspec": {
   "display_name": "Python [python3]",
   "language": "python",
   "name": "Python [python3]"
  },
  "language_info": {
   "codemirror_mode": {
    "name": "ipython",
    "version": 3
   },
   "file_extension": ".py",
   "mimetype": "text/x-python",
   "name": "python",
   "nbconvert_exporter": "python",
   "pygments_lexer": "ipython3",
   "version": "3.5.2"
  }
 },
 "nbformat": 4,
 "nbformat_minor": 0
}
